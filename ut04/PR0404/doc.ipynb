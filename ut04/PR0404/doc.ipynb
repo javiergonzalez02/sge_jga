{
 "cells": [
  {
   "cell_type": "code",
   "execution_count": null,
   "id": "6b60d275-b57d-48dc-9bc5-1ddd9266755b",
   "metadata": {},
   "outputs": [],
   "source": [
    "# EJERCICIOS CON DICCIONARIOS"
   ]
  },
  {
   "cell_type": "code",
   "execution_count": null,
   "id": "6d13bad3-1113-43cc-836f-00310ba3a026",
   "metadata": {},
   "outputs": [],
   "source": [
    "# 1. BUSCAR VALOR EN UN DICCIONARIO"
   ]
  },
  {
   "cell_type": "code",
   "execution_count": 4,
   "id": "ed310b6a-4c79-4e5d-9a27-86c350c4e8a8",
   "metadata": {},
   "outputs": [
    {
     "name": "stdin",
     "output_type": "stream",
     "text": [
      "Introduce una fruta:  manzana\n"
     ]
    },
    {
     "name": "stdout",
     "output_type": "stream",
     "text": [
      "El precio es 10\n"
     ]
    }
   ],
   "source": [
    "frutas = {\"manzana\": 10, \"banana\": 20, \"pera\":4, \"uva\": 18, \"naranja\": 12}\n",
    "fruta = input(\"Introduce una fruta: \")\n",
    "if fruta in frutas:\n",
    "    print(f\"El precio es {frutas.get(fruta)}\")\n",
    "else: print(\"No existe esa fruta\")"
   ]
  },
  {
   "cell_type": "code",
   "execution_count": null,
   "id": "90b87b6f-64f0-4324-b681-f096aa0b792b",
   "metadata": {},
   "outputs": [],
   "source": [
    "# 2. CONTAR ELEMENTOS EN UN DICCIONARIO"
   ]
  },
  {
   "cell_type": "code",
   "execution_count": 7,
   "id": "d3a96326-0166-4168-a76c-3e57aecab47c",
   "metadata": {},
   "outputs": [
    {
     "name": "stdout",
     "output_type": "stream",
     "text": [
      "Hay 5 categorías\n",
      "La categoria Electrónica tiene 11 productos\n",
      "La categoria Hogar tiene 5 productos\n",
      "La categoria Ropa tiene 4 productos\n",
      "La categoria Deportes tiene 8 productos\n",
      "La categoria Juguetes tiene 8 productos\n",
      "Hay 36 productos en total\n"
     ]
    }
   ],
   "source": [
    "productos = {\n",
    "    \"Electrónica\": [\"Smartphone\", \"Laptop\", \"Tablet\", \"Auriculares\", \"Smartwatch\"],\n",
    "    \"Hogar\": [\"Aspiradora\", \"Microondas\", \"Lámpara\", \"Sofá\", \"Cafetera\"],\n",
    "    \"Ropa\": [\"Camisa\", \"Pantalones\", \"Chaqueta\", \"Zapatos\", \"Bufanda\"],\n",
    "    \"Deportes\": [\"Pelota de fútbol\", \"Raqueta de tenis\", \"Bicicleta\", \"Pesas\", \"Cuerda de saltar\"],\n",
    "    \"Juguetes\": [\"Muñeca\", \"Bloques de construcción\", \"Peluche\", \"Rompecabezas\", \"Coche de juguete\"],\n",
    "}\n",
    "\n",
    "print(f\"Hay {len(productos)} categorías\")\n",
    "\n",
    "contadorProductosTot = 0\n",
    "\n",
    "for categoria in productos:\n",
    "    contadorProductosCat = 0\n",
    "    for prod in categoria:\n",
    "        contadorProductosTot += 1\n",
    "        contadorProductosCat += 1\n",
    "    print(f\"La categoria {categoria} tiene {contadorProductosCat} productos\")\n",
    "\n",
    "print(f\"Hay {contadorProductosTot} productos en total\")\n"
   ]
  },
  {
   "cell_type": "code",
   "execution_count": null,
   "id": "d040ccc4-42c6-4780-8a13-3df1293dd74d",
   "metadata": {},
   "outputs": [],
   "source": [
    "# 3. CONTADOR DE FRECUENCIAS DE PALABRAS"
   ]
  },
  {
   "cell_type": "code",
   "execution_count": 8,
   "id": "771833f8-9b56-406c-8e5e-09da6808e411",
   "metadata": {},
   "outputs": [
    {
     "name": "stdout",
     "output_type": "stream",
     "text": [
      "{'El': 1, 'get()': 1, 'método': 1, 'de': 3, 'un': 1, 'diccionario': 1, 'Python': 1, 'devuelve': 1, 'el': 2, 'valor': 1, 'una': 1, 'clave': 2, 'especificada': 1, 'si': 1, 'la': 1, 'está': 1, 'en': 1, 'diccionario.': 1}\n"
     ]
    }
   ],
   "source": [
    "frase = \"El get() método de un diccionario de Python devuelve el valor de una clave especificada si la clave está en el diccionario.\"\n",
    "\n",
    "dict = {}\n",
    "\n",
    "for palabra in frase.split():\n",
    "    if palabra not in dict:\n",
    "        dict[palabra] = 1\n",
    "    else:\n",
    "        dict[palabra] += 1\n",
    "print(dict)"
   ]
  },
  {
   "cell_type": "code",
   "execution_count": null,
   "id": "b742f03f-ef90-46b3-ab06-4e737bcc8881",
   "metadata": {},
   "outputs": [],
   "source": [
    "# 4. DICCIONARIO DE LISTAS"
   ]
  },
  {
   "cell_type": "code",
   "execution_count": 1,
   "id": "746a701a-8256-4829-a1c5-32afc294838c",
   "metadata": {},
   "outputs": [
    {
     "name": "stdout",
     "output_type": "stream",
     "text": [
      "Opción 1: Listar estudiantes matriculados en una asignatura, Opción 2: Matricular un estudiante en una asignatura y Opción 3: Dar de baja un estudiante de una asignatura.\n"
     ]
    },
    {
     "name": "stdin",
     "output_type": "stream",
     "text": [
      "Introduce una opción (1,2,3):  1\n",
      "Introduce una asignatura:  Inglés\n"
     ]
    }
   ],
   "source": [
    "asignaturas = {\n",
    "    \"Matemáticas\": [\"Ana\", \"Carlos\", \"Luis\", \"María\", \"Jorge\"],\n",
    "    \"Física\": [\"Elena\", \"Luis\", \"Juan\", \"Sofía\"],\n",
    "    \"Programación\": [\"Ana\", \"Carlos\", \"Sofía\", \"Jorge\", \"Pedro\"],\n",
    "    \"Historia\": [\"María\", \"Juan\", \"Elena\", \"Ana\"],\n",
    "    \"Inglés\": [\"Carlos\", \"Sofía\", \"Jorge\", \"María\"],\n",
    "}\n",
    "print(\"Opción 1: Listar estudiantes matriculados en una asignatura, Opción 2: Matricular un estudiante en una asignatura y Opción 3: Dar de baja un estudiante de una asignatura.\")\n",
    "opcion = input(\"Introduce una opción (1,2,3): \")\n",
    "if not opcion.isdigit(): \n",
    "    print(\"Opción no válida\")\n",
    "    exit()\n",
    "asig = input(\"Introduce una asignatura: \")\n",
    "if asig not in asignaturas: \n",
    "    print(\"Asignatura no existe\")\n",
    "    exit()\n",
    "if opcion == 1:\n",
    "    for (i in asignaturas.get)\n",
    "    "
   ]
  },
  {
   "cell_type": "code",
   "execution_count": null,
   "id": "d3d95fb7-ba4e-4574-8621-b2acc5a21ecc",
   "metadata": {},
   "outputs": [],
   "source": []
  }
 ],
 "metadata": {
  "kernelspec": {
   "display_name": "Python 3 (ipykernel)",
   "language": "python",
   "name": "python3"
  },
  "language_info": {
   "codemirror_mode": {
    "name": "ipython",
    "version": 3
   },
   "file_extension": ".py",
   "mimetype": "text/x-python",
   "name": "python",
   "nbconvert_exporter": "python",
   "pygments_lexer": "ipython3",
   "version": "3.12.0"
  }
 },
 "nbformat": 4,
 "nbformat_minor": 5
}
