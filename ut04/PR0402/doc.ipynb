{
 "cells": [
  {
   "cell_type": "code",
   "execution_count": null,
   "id": "initial_id",
   "metadata": {
    "collapsed": true
   },
   "outputs": [],
   "source": "# PR0402 - EJERCICIOS DE CADENAS EN PYTON"
  },
  {
   "metadata": {},
   "cell_type": "code",
   "outputs": [],
   "execution_count": null,
   "source": [
    "# 1. CONTAR VOCALES Y CONSONANTES\n",
    "\n",
    "def contarVocalesConsonantes (cadena):\n",
    "    numVocales = 0\n",
    "    numConsonantes = 0\n",
    "\n",
    "    vocales = 'aeiou'\n",
    "    consonantes = 'bdfghjklmnñpqrstvwxyz'\n",
    "\n",
    "    for i in cadena.lower():\n",
    "        if (i in vocales):\n",
    "            numVocales = numVocales + 1\n",
    "        elif (i in consonantes):\n",
    "            numConsonantes = numConsonantes + 1\n",
    "    \n",
    "    print ('La cadena contiene ' + str(numVocales) + ' vocales y ' + str(numConsonantes) + ' consonantes.')\n",
    "\n",
    "contarVocalesConsonantes(input('Introduce una cadena: '))"
   ],
   "id": "3b7d4e8d9a25b975"
  },
  {
   "metadata": {},
   "cell_type": "code",
   "outputs": [],
   "execution_count": null,
   "source": [
    "# 2. INVERTIR CADENA\n",
    "\n",
    "def invertirCadena (cadena):\n",
    "    invertida = \"\"\n",
    "    for i in cadena:\n",
    "        invertida = i + invertida\n",
    "    print(invertida)\n",
    "\n",
    "invertirCadena(input('Introduce una cadena: '))"
   ],
   "id": "a1d8900923c8c0a6"
  },
  {
   "metadata": {},
   "cell_type": "code",
   "outputs": [],
   "execution_count": null,
   "source": [
    "# 3. VERIFICAR PALÍNDROMO\n",
    "\n",
    "def invertirCadena (cadena):\n",
    "    invertida = \"\"\n",
    "    for i in cadena:\n",
    "        invertida = i + invertida\n",
    "    return invertida\n",
    "\n",
    "def verificarPalindromo (cadena):\n",
    "    if (cadena == invertirCadena(cadena)):\n",
    "        print('Es palíndromo :)')\n",
    "    else:\n",
    "        print('No es palíndromo :(')\n",
    "\n",
    "verificarPalindromo(input('Introduce una cadena: '))"
   ],
   "id": "edf7e4026da84877"
  },
  {
   "metadata": {},
   "cell_type": "code",
   "outputs": [],
   "execution_count": null,
   "source": [
    "# 4. CONTAR PALABRAS\n",
    "\n",
    "def contarPalabras(cadena): print('La cadena tiene '+ str(len(cadena.split())) + ' palabras')\n",
    "contarPalabras(input('Introduce una cadena: '))"
   ],
   "id": "4babda4d738ae1aa"
  },
  {
   "metadata": {},
   "cell_type": "code",
   "outputs": [],
   "execution_count": null,
   "source": [
    "# 5. ELIMINAR CARACTERES REPETIDOS\n",
    "\n",
    "def eliminarCharsRepes (cadena):\n",
    "    nueva = \"\"\n",
    "    for i in cadena:\n",
    "        if (i not in nueva): nueva += i\n",
    "    print(nueva)\n",
    "eliminarCharsRepes(input('Introduce una cadena: '))"
   ],
   "id": "6f2346a3f1cb0331"
  },
  {
   "metadata": {},
   "cell_type": "code",
   "outputs": [],
   "execution_count": null,
   "source": [
    "# 6. MAYÚSCULAS Y MINÚSCULAS\n",
    "\n",
    "def mayusMinus(cadena):\n",
    "    nueva = \"\"\n",
    "    for i in cadena:\n",
    "        if (i.islower()):\n",
    "            nueva += i.upper()\n",
    "        else:\n",
    "            nueva += i.lower()\n",
    "    print(nueva)\n",
    "\n",
    "mayusMinus(input('Introduce una cadena: '))"
   ],
   "id": "913ed8e18ef47775"
  },
  {
   "metadata": {},
   "cell_type": "code",
   "outputs": [],
   "execution_count": null,
   "source": [
    "# 7. INVERTIR PALABRAS DE UNA CADENA\n",
    "\n",
    "def invertirCadena (cadena):\n",
    "    invertida = \"\"\n",
    "    for i in cadena.split(\" \"): invertida = i + \" \" + invertida\n",
    "    print(invertida)\n",
    "\n",
    "invertirCadena(input('Introduce una cadena: '))"
   ],
   "id": "d15312a15412435c"
  },
  {
   "metadata": {},
   "cell_type": "code",
   "outputs": [],
   "execution_count": null,
   "source": [
    "# 8. ANAGRAMA\n",
    "\n",
    "def esAnagrama(cadena1, cadena2):\n",
    "    if(sorted(cadena1.lower()) == sorted(cadena2.lower())):print(\"Es un anagrama :)\")\n",
    "    else: print(\"No es un anagrama :(\")\n",
    "esAnagrama(input('Introduce una cadena: '), input('Introduce una cadena: '))"
   ],
   "id": "a74b1e6afbffeecd"
  },
  {
   "metadata": {},
   "cell_type": "code",
   "outputs": [],
   "execution_count": null,
   "source": [
    "# 9. FRECUENCIA CARACTERES\n",
    "\n",
    "def frecuenciaChars (cadena):\n",
    "    diccionario = {}\n",
    "    for i in cadena:\n",
    "        if i in diccionario:\n",
    "            diccionario[i] += 1\n",
    "        else:\n",
    "            diccionario[i] = 1\n",
    "    print(diccionario)\n",
    "\n",
    "\n",
    "frecuenciaChars(input('Introduce una cadena: '))"
   ],
   "id": "a53b4d9d1279fbbf"
  },
  {
   "metadata": {},
   "cell_type": "code",
   "outputs": [],
   "execution_count": null,
   "source": [
    "# 10. QUITAR CARACTERES NO ALFANUMÉRICOS\n",
    "\n",
    "def quitarNoAlfanumericos(cadena):\n",
    "    resultado = \"\"\n",
    "    for i in cadena:\n",
    "        if (i.isalnum()): resultado += i\n",
    "    print(resultado)\n",
    "\n",
    "quitarNoAlfanumericos(input('Introduce una cadena: '))"
   ],
   "id": "49d6380610a92501"
  },
  {
   "metadata": {},
   "cell_type": "code",
   "outputs": [],
   "execution_count": null,
   "source": [
    "# 11. TRANSFORMAR CAMELCASE\n",
    "\n",
    "def transformarACamel(cadena):\n",
    "    resultado, upper = \"\", False\n",
    "    for i in cadena:\n",
    "        if (i == \"-\"):\n",
    "            upper = True\n",
    "            continue\n",
    "        if (upper == True and resultado != \"\"):\n",
    "            resultado += i.upper()\n",
    "            upper = False\n",
    "            continue\n",
    "        resultado += i.lower()\n",
    "    print(resultado)\n",
    "transformarACamel(input('Introduce una cadena: '))"
   ],
   "id": "2ad26147fc63c8a"
  },
  {
   "metadata": {},
   "cell_type": "code",
   "outputs": [],
   "execution_count": null,
   "source": [
    "# 12. CODIFICACION RLE (RUN LENGTH ENCODING)\n",
    "\n",
    "def codificarRLE(cadena):\n",
    "    resultado, cont, charRepetido = \"\", 0, \"\"\n",
    "    for i in cadena:\n",
    "        if (i == charRepetido):\n",
    "            cont += 1\n",
    "            resultado = resultado[:-1] + str(cont)\n",
    "            continue\n",
    "        if (i != charRepetido):\n",
    "            cont, charRepetido = 1, i\n",
    "            resultado += i + str(cont)\n",
    "            continue\n",
    "        resultado += i.lower()\n",
    "    print(resultado)\n",
    "codificarRLE(input('Introduce una cadena: '))"
   ],
   "id": "578bf9ef41ce410a"
  },
  {
   "metadata": {},
   "cell_type": "code",
   "outputs": [],
   "execution_count": null,
   "source": [
    "# 13. DECODIFICACION RLE (RUN LENGTH DECODING)\n",
    "\n",
    "def decodificarRLE(cadena):\n",
    "    resultado = \"\"\n",
    "    cont = 0\n",
    "    for char in cadena:\n",
    "        if (char.isdigit()):\n",
    "            resultado += cadena[cont - 1] * int(char)\n",
    "        cont += 1\n",
    "    print(resultado)\n",
    "decodificarRLE(input('Introduce una cadena: '))"
   ],
   "id": "72fb8b27f07be555"
  },
  {
   "metadata": {},
   "cell_type": "code",
   "outputs": [],
   "execution_count": null,
   "source": [
    "# 14. FORMATEO DE CADENAS CON PLANTILLAS\n",
    "\n",
    "def formateoPlantilla(cadena, diccionario):\n",
    "    indexInicio = cadena.find('{')\n",
    "    clave = diccionario.keys()[0]\n",
    "    if indexInicio != -1 :\n",
    "        indexFinal = cadena.find('}')\n",
    "        palabra = cadena[indexInicio+1:indexFinal]\n",
    "        print(cadena.replace(palabra, diccionario.values()))\n",
    "\n",
    "formateoPlantilla(input('Introduce una cadena: '), input('Introduce una cadena: '))"
   ],
   "id": "b7a3fa2eafe8559d"
  },
  {
   "metadata": {},
   "cell_type": "code",
   "outputs": [],
   "execution_count": null,
   "source": [
    "# 15. COMPARAR CADENAS POR VALOR ASCII\n",
    "\n",
    "def contarAscii(cadena):\n",
    "    return sum([ord(char) for char in cadena])\n",
    "\n",
    "def compararAscii(cadena1, cadena2):\n",
    "    if contarAscii(cadena1) > contarAscii(cadena2):\n",
    "        return cadena1 + ' tiene un valor ascii mayor: ' + str(contarAscii(cadena1)) + ' que ' + cadena2 + ', la cual tiene el siguiente valor ' + str(contarAscii(cadena2))\n",
    "    else:\n",
    "        return cadena2 + ' tiene un valor ascii mayor: ' + str(contarAscii(cadena2)) + ' que ' + cadena1 + ', la cual tiene el siguiente valor ' + str(contarAscii(cadena1))\n",
    "print(compararAscii(input('Introduce una cadena: '), input('Introduce una cadena: ')))"
   ],
   "id": "c23d2fcce0612fde"
  },
  {
   "metadata": {},
   "cell_type": "code",
   "outputs": [],
   "execution_count": null,
   "source": [
    "# 16. CONTAR LONGITUD DE PALABRA MÁS LARGA\n",
    "\n",
    "def palabraMasLarga(cadena):\n",
    "    arr = cadena.split(\" \")\n",
    "    palabraMasLarga = arr[0]\n",
    "    longitudCadena = len(arr[0])\n",
    "    for i in arr:\n",
    "        if len(i)> longitudCadena: \n",
    "            longitudCadena = len(i)\n",
    "            palabraMasLarga = i\n",
    "    return 'La palabra más larga es ' + palabraMasLarga\n",
    "print(palabraMasLarga(input('Introduce una cadena: ')))"
   ],
   "id": "7186653638be6bb4"
  },
  {
   "metadata": {},
   "cell_type": "code",
   "outputs": [],
   "execution_count": null,
   "source": [
    "# 17. FORMATEAR NÚMERO CON SEPARADOR DE MILES\n",
    "\n",
    "def formatearMiles (cadena):\n",
    "    if cadena.isdigit():\n",
    "        num = int(cadena)\n",
    "        if num % 3 == 2:\n",
    "            \n",
    "formatearMiles(input('Introduce un numero: '))"
   ],
   "id": "4d2ea9478364575a"
  },
  {
   "metadata": {},
   "cell_type": "code",
   "outputs": [],
   "execution_count": null,
   "source": [
    "# 18. ROTAR CARACTERES DE UNA CADENA\n",
    "\n"
   ],
   "id": "26ffb2e69761f6b4"
  }
 ],
 "metadata": {
  "kernelspec": {
   "display_name": "Python 3",
   "language": "python",
   "name": "python3"
  },
  "language_info": {
   "codemirror_mode": {
    "name": "ipython",
    "version": 2
   },
   "file_extension": ".py",
   "mimetype": "text/x-python",
   "name": "python",
   "nbconvert_exporter": "python",
   "pygments_lexer": "ipython2",
   "version": "2.7.6"
  }
 },
 "nbformat": 4,
 "nbformat_minor": 5
}
