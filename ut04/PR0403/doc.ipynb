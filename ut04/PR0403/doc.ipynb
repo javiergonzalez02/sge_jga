{
 "cells": [
  {
   "cell_type": "code",
   "execution_count": null,
   "id": "initial_id",
   "metadata": {
    "collapsed": true,
    "jupyter": {
     "outputs_hidden": true
    }
   },
   "outputs": [],
   "source": [
    "# PR0403 - EJERCICIOS CON LISTAS"
   ]
  },
  {
   "cell_type": "code",
   "execution_count": null,
   "id": "9a68e044b305343f",
   "metadata": {},
   "outputs": [],
   "source": [
    "# OPERACIONES CON LISTAS"
   ]
  },
  {
   "cell_type": "code",
   "execution_count": null,
   "id": "7c117f811b301c28",
   "metadata": {},
   "outputs": [],
   "source": [
    "# 1. ORDENANDO ELEMENTOS\n",
    "\n",
    "nombres = [\"Alejandro\", \"María\", \"Javier\", \"Lucía\", \"Carlos\", \"Sofía\", \"Miguel\", \"Ana\", \"Manuel\", \"Isabel\", \"Pedro\", \"Carmen\", \"Jorge\", \"Elena\", \"Juan\", \"Laura\", \"Antonio\", \"Patricia\", \"David\", \"Claudia\", \"Francisco\", \"Marta\", \"Sergio\", \"Teresa\", \"Luis\", \"Raquel\", \"Andrés\", \"Paula\", \"Daniel\", \"Verónica\", \"Fernando\", \"Sara\", \"Pablo\", \"Irene\", \"Álvaro\", \"Natalia\", \"Hugo\", \"Eva\", \"Diego\", \"Cristina\", \"Jesús\", \"Rosa\", \"Roberto\", \"Alicia\", \"Ángel\", \"Beatriz\", \"Ricardo\", \"Julia\", \"Adrián\", \"Silvia\", \"Alberto\", \"Victoria\", \"Raúl\", \"Pilar\", \"Ramón\", \"Lidia\", \"Óscar\", \"Ariadna\", \"Gonzalo\", \"Mónica\", \"Rubén\", \"Esther\", \"Santiago\", \"Nuria\", \"Iván\", \"Ainhoa\", \"Eduardo\", \"Berta\", \"Marcos\", \"Noelia\", \"Enrique\", \"Elisa\", \"Emilio\", \"Fátima\", \"Vicente\", \"Gabriela\", \"Mario\", \"Olga\", \"Rafael\", \"Lorena\", \"Mariano\", \"Cristina\", \"Eugenio\", \"Mercedes\", \"Félix\", \"Amparo\", \"Sebastián\", \"Rocío\", \"Alfredo\", \"Esperanza\", \"Álex\", \"Celia\", \"Héctor\", \"Andrea\", \"Tomás\", \"Inés\", \"Marcelo\", \"Gloria\", \"Marina\", \"Belén\", \"Valentín\", \"Miriam\", \"Guillermo\", \"Ángela\", \"Joaquín\", \"Gemma\", \"Fabián\", \"Daniela\", \"Víctor\", \"Dolores\", \"Marcos\", \"Tamara\", \"Braulio\", \"Lourdes\", \"Federico\", \"Gema\", \"Julián\", \"Nicolás\", \"Leandro\", \"Manuela\", \"Agustín\", \"Elsa\", \"Julio\", \"Consuelo\", \"Ismael\", \"Alejandra\", \"Joaquín\", \"Milagros\", \"Gregorio\", \"Inmaculada\", \"Salvador\", \"Carla\", \"Esteban\", \"Carolina\", \"Fausto\", \"Emilia\", \"Alfonso\", \"Amalia\", \"Baltasar\", \"Adela\", \"Humberto\", \"Blanca\", \"Aníbal\", \"Araceli\", \"César\", \"Candela\"]\n",
    "\n",
    "nombres.sort(reverse=True)\n",
    "\n",
    "print(nombres)"
   ]
  },
  {
   "cell_type": "code",
   "execution_count": 1,
   "id": "e080196fbb3ed3d7",
   "metadata": {
    "ExecuteTime": {
     "end_time": "2024-11-05T11:11:35.972057Z",
     "start_time": "2024-11-05T11:11:35.962273Z"
    }
   },
   "outputs": [
    {
     "name": "stdout",
     "output_type": "stream",
     "text": [
      "19\n"
     ]
    }
   ],
   "source": [
    "# 2. CONTANDO ELEMENTOS\n",
    "\n",
    "nombres = [\"Alejandro\", \"María\", \"Javier\", \"Lucía\", \"Carlos\", \"Sofía\", \"Miguel\", \"Ana\", \"Manuel\", \"Isabel\", \"Pedro\", \"Carmen\", \"Jorge\", \"Elena\", \"Juan\", \"Laura\", \"Antonio\", \"Patricia\", \"David\", \"Claudia\", \"Francisco\", \"Marta\", \"Sergio\", \"Teresa\", \"Luis\", \"Raquel\", \"Andrés\", \"Paula\", \"Daniel\", \"Verónica\", \"Fernando\", \"Sara\", \"Pablo\", \"Irene\", \"Álvaro\", \"Natalia\", \"Hugo\", \"Eva\", \"Diego\", \"Cristina\", \"Jesús\", \"Rosa\", \"Roberto\", \"Alicia\", \"Ángel\", \"Beatriz\", \"Ricardo\", \"Julia\", \"Adrián\", \"Silvia\", \"Alberto\", \"Victoria\", \"Raúl\", \"Pilar\", \"Ramón\", \"Lidia\", \"Óscar\", \"Ariadna\", \"Gonzalo\", \"Mónica\", \"Rubén\", \"Esther\", \"Santiago\", \"Nuria\", \"Iván\", \"Ainhoa\", \"Eduardo\", \"Berta\", \"Marcos\", \"Noelia\", \"Enrique\", \"Elisa\", \"Emilio\", \"Fátima\", \"Vicente\", \"Gabriela\", \"Mario\", \"Olga\", \"Rafael\", \"Lorena\", \"Mariano\", \"Cristina\", \"Eugenio\", \"Mercedes\", \"Félix\", \"Amparo\", \"Sebastián\", \"Rocío\", \"Alfredo\", \"Esperanza\", \"Álex\", \"Celia\", \"Héctor\", \"Andrea\", \"Tomás\", \"Inés\", \"Marcelo\", \"Gloria\", \"Marina\", \"Belén\", \"Valentín\", \"Miriam\", \"Guillermo\", \"Ángela\", \"Joaquín\", \"Gemma\", \"Fabián\", \"Daniela\", \"Víctor\", \"Dolores\", \"Marcos\", \"Tamara\", \"Braulio\", \"Lourdes\", \"Federico\", \"Gema\", \"Julián\", \"Nicolás\", \"Leandro\", \"Manuela\", \"Agustín\", \"Elsa\", \"Julio\", \"Consuelo\", \"Ismael\", \"Alejandra\", \"Joaquín\", \"Milagros\", \"Gregorio\", \"Inmaculada\", \"Salvador\", \"Carla\", \"Esteban\", \"Carolina\", \"Fausto\", \"Emilia\", \"Alfonso\", \"Amalia\", \"Baltasar\", \"Adela\", \"Humberto\", \"Blanca\", \"Aníbal\", \"Araceli\", \"César\", \"Candela\"]\n",
    "\n",
    "count = 0\n",
    "\n",
    "for nombre in nombres:\n",
    "    if nombre.lower().startswith(\"a\"): count += 1\n",
    "\n",
    "print(str(count))"
   ]
  },
  {
   "cell_type": "code",
   "execution_count": 2,
   "id": "cd7e3aeb-1324-490f-a883-192fb0a25000",
   "metadata": {},
   "outputs": [
    {
     "name": "stdin",
     "output_type": "stream",
     "text": [
      "Introduce tu nombre:  Javier\n"
     ]
    },
    {
     "name": "stdout",
     "output_type": "stream",
     "text": [
      "Tu nombre está en la lista :) en el indice 2\n"
     ]
    }
   ],
   "source": [
    "# 3. BUSCAR UN ELEMENTO:\n",
    "\n",
    "nombres = [\"Alejandro\", \"María\", \"Javier\", \"Lucía\", \"Carlos\", \"Sofía\", \"Miguel\", \"Ana\", \"Manuel\", \"Isabel\", \"Pedro\", \"Carmen\", \"Jorge\", \"Elena\", \"Juan\", \"Laura\", \"Antonio\", \"Patricia\", \"David\", \"Claudia\", \"Francisco\", \"Marta\", \"Sergio\", \"Teresa\", \"Luis\", \"Raquel\", \"Andrés\", \"Paula\", \"Daniel\", \"Verónica\", \"Fernando\", \"Sara\", \"Pablo\", \"Irene\", \"Álvaro\", \"Natalia\", \"Hugo\", \"Eva\", \"Diego\", \"Cristina\", \"Jesús\", \"Rosa\", \"Roberto\", \"Alicia\", \"Ángel\", \"Beatriz\", \"Ricardo\", \"Julia\", \"Adrián\", \"Silvia\", \"Alberto\", \"Victoria\", \"Raúl\", \"Pilar\", \"Ramón\", \"Lidia\", \"Óscar\", \"Ariadna\", \"Gonzalo\", \"Mónica\", \"Rubén\", \"Esther\", \"Santiago\", \"Nuria\", \"Iván\", \"Ainhoa\", \"Eduardo\", \"Berta\", \"Marcos\", \"Noelia\", \"Enrique\", \"Elisa\", \"Emilio\", \"Fátima\", \"Vicente\", \"Gabriela\", \"Mario\", \"Olga\", \"Rafael\", \"Lorena\", \"Mariano\", \"Cristina\", \"Eugenio\", \"Mercedes\", \"Félix\", \"Amparo\", \"Sebastián\", \"Rocío\", \"Alfredo\", \"Esperanza\", \"Álex\", \"Celia\", \"Héctor\", \"Andrea\", \"Tomás\", \"Inés\", \"Marcelo\", \"Gloria\", \"Marina\", \"Belén\", \"Valentín\", \"Miriam\", \"Guillermo\", \"Ángela\", \"Joaquín\", \"Gemma\", \"Fabián\", \"Daniela\", \"Víctor\", \"Dolores\", \"Marcos\", \"Tamara\", \"Braulio\", \"Lourdes\", \"Federico\", \"Gema\", \"Julián\", \"Nicolás\", \"Leandro\", \"Manuela\", \"Agustín\", \"Elsa\", \"Julio\", \"Consuelo\", \"Ismael\", \"Alejandra\", \"Joaquín\", \"Milagros\", \"Gregorio\", \"Inmaculada\", \"Salvador\", \"Carla\", \"Esteban\", \"Carolina\", \"Fausto\", \"Emilia\", \"Alfonso\", \"Amalia\", \"Baltasar\", \"Adela\", \"Humberto\", \"Blanca\", \"Aníbal\", \"Araceli\", \"César\", \"Candela\"]\n",
    "\n",
    "nombreABuscar = input(\"Introduce tu nombre: \")\n",
    "\n",
    "if (nombreABuscar in nombres): print(\"Tu nombre está en la lista :) en el indice \" + str(nombres.index(nombreABuscar)))\n",
    "else: print(\"Tu nombre no está en la lista :(\")"
   ]
  },
  {
   "cell_type": "code",
   "execution_count": 3,
   "id": "f0e1e10e-671e-4aa4-9ad8-8630a5ddc5ca",
   "metadata": {},
   "outputs": [
    {
     "name": "stdin",
     "output_type": "stream",
     "text": [
      "Introduce tu nombre:  Javier\n"
     ]
    },
    {
     "name": "stdout",
     "output_type": "stream",
     "text": [
      "['Alejandro', 'María']\n"
     ]
    }
   ],
   "source": [
    "# 4. PRIMEROS ELEMENTOS\n",
    "\n",
    "nombres = [\"Alejandro\", \"María\", \"Javier\", \"Lucía\", \"Carlos\", \"Sofía\", \"Miguel\", \"Ana\", \"Manuel\", \"Isabel\", \"Pedro\", \"Carmen\", \"Jorge\", \"Elena\", \"Juan\", \"Laura\", \"Antonio\", \"Patricia\", \"David\", \"Claudia\", \"Francisco\", \"Marta\", \"Sergio\", \"Teresa\", \"Luis\", \"Raquel\", \"Andrés\", \"Paula\", \"Daniel\", \"Verónica\", \"Fernando\", \"Sara\", \"Pablo\", \"Irene\", \"Álvaro\", \"Natalia\", \"Hugo\", \"Eva\", \"Diego\", \"Cristina\", \"Jesús\", \"Rosa\", \"Roberto\", \"Alicia\", \"Ángel\", \"Beatriz\", \"Ricardo\", \"Julia\", \"Adrián\", \"Silvia\", \"Alberto\", \"Victoria\", \"Raúl\", \"Pilar\", \"Ramón\", \"Lidia\", \"Óscar\", \"Ariadna\", \"Gonzalo\", \"Mónica\", \"Rubén\", \"Esther\", \"Santiago\", \"Nuria\", \"Iván\", \"Ainhoa\", \"Eduardo\", \"Berta\", \"Marcos\", \"Noelia\", \"Enrique\", \"Elisa\", \"Emilio\", \"Fátima\", \"Vicente\", \"Gabriela\", \"Mario\", \"Olga\", \"Rafael\", \"Lorena\", \"Mariano\", \"Cristina\", \"Eugenio\", \"Mercedes\", \"Félix\", \"Amparo\", \"Sebastián\", \"Rocío\", \"Alfredo\", \"Esperanza\", \"Álex\", \"Celia\", \"Héctor\", \"Andrea\", \"Tomás\", \"Inés\", \"Marcelo\", \"Gloria\", \"Marina\", \"Belén\", \"Valentín\", \"Miriam\", \"Guillermo\", \"Ángela\", \"Joaquín\", \"Gemma\", \"Fabián\", \"Daniela\", \"Víctor\", \"Dolores\", \"Marcos\", \"Tamara\", \"Braulio\", \"Lourdes\", \"Federico\", \"Gema\", \"Julián\", \"Nicolás\", \"Leandro\", \"Manuela\", \"Agustín\", \"Elsa\", \"Julio\", \"Consuelo\", \"Ismael\", \"Alejandra\", \"Joaquín\", \"Milagros\", \"Gregorio\", \"Inmaculada\", \"Salvador\", \"Carla\", \"Esteban\", \"Carolina\", \"Fausto\", \"Emilia\", \"Alfonso\", \"Amalia\", \"Baltasar\", \"Adela\", \"Humberto\", \"Blanca\", \"Aníbal\", \"Araceli\", \"César\", \"Candela\"]\n",
    "nombreABuscar = input(\"Introduce tu nombre: \")\n",
    "if (nombreABuscar in nombres): print(nombres[0:nombres.index(nombreABuscar)])\n",
    "else: print(\"Tu nombre no está en la lista :(\")"
   ]
  },
  {
   "cell_type": "code",
   "execution_count": 6,
   "id": "a4e265ef-80b5-42f1-8384-3dd11d1d58fb",
   "metadata": {},
   "outputs": [
    {
     "name": "stdin",
     "output_type": "stream",
     "text": [
      "Introduce la longitud:  5\n"
     ]
    },
    {
     "name": "stdout",
     "output_type": "stream",
     "text": [
      "Hay 35 nombres con esa longitud\n"
     ]
    }
   ],
   "source": [
    "# 5. OBTENER NÚMERO DE NOMBRES DE UNA LOGITUD\n",
    "nombres = [\"Alejandro\", \"María\", \"Javier\", \"Lucía\", \"Carlos\", \"Sofía\", \"Miguel\", \"Ana\", \"Manuel\", \"Isabel\", \"Pedro\", \"Carmen\", \"Jorge\", \"Elena\", \"Juan\", \"Laura\", \"Antonio\", \"Patricia\", \"David\", \"Claudia\", \"Francisco\", \"Marta\", \"Sergio\", \"Teresa\", \"Luis\", \"Raquel\", \"Andrés\", \"Paula\", \"Daniel\", \"Verónica\", \"Fernando\", \"Sara\", \"Pablo\", \"Irene\", \"Álvaro\", \"Natalia\", \"Hugo\", \"Eva\", \"Diego\", \"Cristina\", \"Jesús\", \"Rosa\", \"Roberto\", \"Alicia\", \"Ángel\", \"Beatriz\", \"Ricardo\", \"Julia\", \"Adrián\", \"Silvia\", \"Alberto\", \"Victoria\", \"Raúl\", \"Pilar\", \"Ramón\", \"Lidia\", \"Óscar\", \"Ariadna\", \"Gonzalo\", \"Mónica\", \"Rubén\", \"Esther\", \"Santiago\", \"Nuria\", \"Iván\", \"Ainhoa\", \"Eduardo\", \"Berta\", \"Marcos\", \"Noelia\", \"Enrique\", \"Elisa\", \"Emilio\", \"Fátima\", \"Vicente\", \"Gabriela\", \"Mario\", \"Olga\", \"Rafael\", \"Lorena\", \"Mariano\", \"Cristina\", \"Eugenio\", \"Mercedes\", \"Félix\", \"Amparo\", \"Sebastián\", \"Rocío\", \"Alfredo\", \"Esperanza\", \"Álex\", \"Celia\", \"Héctor\", \"Andrea\", \"Tomás\", \"Inés\", \"Marcelo\", \"Gloria\", \"Marina\", \"Belén\", \"Valentín\", \"Miriam\", \"Guillermo\", \"Ángela\", \"Joaquín\", \"Gemma\", \"Fabián\", \"Daniela\", \"Víctor\", \"Dolores\", \"Marcos\", \"Tamara\", \"Braulio\", \"Lourdes\", \"Federico\", \"Gema\", \"Julián\", \"Nicolás\", \"Leandro\", \"Manuela\", \"Agustín\", \"Elsa\", \"Julio\", \"Consuelo\", \"Ismael\", \"Alejandra\", \"Joaquín\", \"Milagros\", \"Gregorio\", \"Inmaculada\", \"Salvador\", \"Carla\", \"Esteban\", \"Carolina\", \"Fausto\", \"Emilia\", \"Alfonso\", \"Amalia\", \"Baltasar\", \"Adela\", \"Humberto\", \"Blanca\", \"Aníbal\", \"Araceli\", \"César\", \"Candela\"]\n",
    "longitud = int(input(\"Introduce la longitud: \"))\n",
    "contador = 0\n",
    "for nombre in nombres:\n",
    "    if len(nombre) == longitud: contador += 1\n",
    "print(\"Hay \" + str(contador) + \" nombres con esa longitud\")"
   ]
  },
  {
   "cell_type": "code",
   "execution_count": 9,
   "id": "98bd367f-f149-4ce7-b9a3-7b5655453989",
   "metadata": {},
   "outputs": [
    {
     "name": "stdin",
     "output_type": "stream",
     "text": [
      "Introduce la longitud:  4\n"
     ]
    },
    {
     "name": "stdout",
     "output_type": "stream",
     "text": [
      "Ana, Eva\n"
     ]
    }
   ],
   "source": [
    "# 6. NOMBRES CORTOS\n",
    "nombres = [\"Alejandro\", \"María\", \"Javier\", \"Lucía\", \"Carlos\", \"Sofía\", \"Miguel\", \"Ana\", \"Manuel\", \"Isabel\", \"Pedro\", \"Carmen\", \"Jorge\", \"Elena\", \"Juan\", \"Laura\", \"Antonio\", \"Patricia\", \"David\", \"Claudia\", \"Francisco\", \"Marta\", \"Sergio\", \"Teresa\", \"Luis\", \"Raquel\", \"Andrés\", \"Paula\", \"Daniel\", \"Verónica\", \"Fernando\", \"Sara\", \"Pablo\", \"Irene\", \"Álvaro\", \"Natalia\", \"Hugo\", \"Eva\", \"Diego\", \"Cristina\", \"Jesús\", \"Rosa\", \"Roberto\", \"Alicia\", \"Ángel\", \"Beatriz\", \"Ricardo\", \"Julia\", \"Adrián\", \"Silvia\", \"Alberto\", \"Victoria\", \"Raúl\", \"Pilar\", \"Ramón\", \"Lidia\", \"Óscar\", \"Ariadna\", \"Gonzalo\", \"Mónica\", \"Rubén\", \"Esther\", \"Santiago\", \"Nuria\", \"Iván\", \"Ainhoa\", \"Eduardo\", \"Berta\", \"Marcos\", \"Noelia\", \"Enrique\", \"Elisa\", \"Emilio\", \"Fátima\", \"Vicente\", \"Gabriela\", \"Mario\", \"Olga\", \"Rafael\", \"Lorena\", \"Mariano\", \"Cristina\", \"Eugenio\", \"Mercedes\", \"Félix\", \"Amparo\", \"Sebastián\", \"Rocío\", \"Alfredo\", \"Esperanza\", \"Álex\", \"Celia\", \"Héctor\", \"Andrea\", \"Tomás\", \"Inés\", \"Marcelo\", \"Gloria\", \"Marina\", \"Belén\", \"Valentín\", \"Miriam\", \"Guillermo\", \"Ángela\", \"Joaquín\", \"Gemma\", \"Fabián\", \"Daniela\", \"Víctor\", \"Dolores\", \"Marcos\", \"Tamara\", \"Braulio\", \"Lourdes\", \"Federico\", \"Gema\", \"Julián\", \"Nicolás\", \"Leandro\", \"Manuela\", \"Agustín\", \"Elsa\", \"Julio\", \"Consuelo\", \"Ismael\", \"Alejandra\", \"Joaquín\", \"Milagros\", \"Gregorio\", \"Inmaculada\", \"Salvador\", \"Carla\", \"Esteban\", \"Carolina\", \"Fausto\", \"Emilia\", \"Alfonso\", \"Amalia\", \"Baltasar\", \"Adela\", \"Humberto\", \"Blanca\", \"Aníbal\", \"Araceli\", \"César\", \"Candela\"]\n",
    "longitud = int(input(\"Introduce la longitud: \"))\n",
    "resultado = \"\"\n",
    "for nombre in nombres:\n",
    "    if len(nombre) < longitud: resultado += nombre + \", \"\n",
    "print(resultado[:-2])"
   ]
  },
  {
   "cell_type": "code",
   "execution_count": null,
   "id": "2236ab3f-8bf6-4014-9f46-74bc98499203",
   "metadata": {},
   "outputs": [],
   "source": [
    "# 7.  NÚMERO DE VOCALES"
   ]
  },
  {
   "cell_type": "code",
   "execution_count": 1,
   "id": "11609930-ccfe-4d8b-a542-f9699509e1c9",
   "metadata": {},
   "outputs": [
    {
     "name": "stdout",
     "output_type": "stream",
     "text": [
      "La vocal 'a' aparece 152 veces.\n",
      "La vocal 'e' aparece 78 veces.\n",
      "La vocal 'i' aparece 75 veces.\n",
      "La vocal 'o' aparece 65 veces.\n",
      "La vocal 'u' aparece 29 veces.\n"
     ]
    }
   ],
   "source": [
    "nombres = [\"Alejandro\", \"María\", \"Javier\", \"Lucía\", \"Carlos\", \"Sofía\", \"Miguel\", \"Ana\", \"Manuel\", \"Isabel\", \"Pedro\", \"Carmen\", \"Jorge\", \"Elena\", \"Juan\", \"Laura\", \"Antonio\", \"Patricia\", \"David\", \"Claudia\", \"Francisco\", \"Marta\", \"Sergio\", \"Teresa\", \"Luis\", \"Raquel\", \"Andrés\", \"Paula\", \"Daniel\", \"Verónica\", \"Fernando\", \"Sara\", \"Pablo\", \"Irene\", \"Álvaro\", \"Natalia\", \"Hugo\", \"Eva\", \"Diego\", \"Cristina\", \"Jesús\", \"Rosa\", \"Roberto\", \"Alicia\", \"Ángel\", \"Beatriz\", \"Ricardo\", \"Julia\", \"Adrián\", \"Silvia\", \"Alberto\", \"Victoria\", \"Raúl\", \"Pilar\", \"Ramón\", \"Lidia\", \"Óscar\", \"Ariadna\", \"Gonzalo\", \"Mónica\", \"Rubén\", \"Esther\", \"Santiago\", \"Nuria\", \"Iván\", \"Ainhoa\", \"Eduardo\", \"Berta\", \"Marcos\", \"Noelia\", \"Enrique\", \"Elisa\", \"Emilio\", \"Fátima\", \"Vicente\", \"Gabriela\", \"Mario\", \"Olga\", \"Rafael\", \"Lorena\", \"Mariano\", \"Cristina\", \"Eugenio\", \"Mercedes\", \"Félix\", \"Amparo\", \"Sebastián\", \"Rocío\", \"Alfredo\", \"Esperanza\", \"Álex\", \"Celia\", \"Héctor\", \"Andrea\", \"Tomás\", \"Inés\", \"Marcelo\", \"Gloria\", \"Marina\", \"Belén\", \"Valentín\", \"Miriam\", \"Guillermo\", \"Ángela\", \"Joaquín\", \"Gemma\", \"Fabián\", \"Daniela\", \"Víctor\", \"Dolores\", \"Marcos\", \"Tamara\", \"Braulio\", \"Lourdes\", \"Federico\", \"Gema\", \"Julián\", \"Nicolás\", \"Leandro\", \"Manuela\", \"Agustín\", \"Elsa\", \"Julio\", \"Consuelo\", \"Ismael\", \"Alejandra\", \"Joaquín\", \"Milagros\", \"Gregorio\", \"Inmaculada\", \"Salvador\", \"Carla\", \"Esteban\", \"Carolina\", \"Fausto\", \"Emilia\", \"Alfonso\", \"Amalia\", \"Baltasar\", \"Adela\", \"Humberto\", \"Blanca\", \"Aníbal\", \"Araceli\", \"César\", \"Candela\"]\n",
    "\n",
    "vocales = {\"a\": 0, \"e\": 0, \"i\": 0, \"o\": 0, \"u\": 0}\n",
    "\n",
    "for nombre in nombres:\n",
    "    for letra in nombre.lower():\n",
    "        if letra in vocales:\n",
    "            vocales[letra] += 1\n",
    "\n",
    "for vocal, cantidad in vocales.items():\n",
    "    print(f\"La vocal '{vocal}' aparece {cantidad} veces.\")"
   ]
  },
  {
   "cell_type": "code",
   "execution_count": null,
   "id": "e0b43f90-7577-42c8-bf81-4fced50e4a24",
   "metadata": {},
   "outputs": [],
   "source": [
    "# 8. NÚMERO DE LETRAS"
   ]
  },
  {
   "cell_type": "code",
   "execution_count": 29,
   "id": "8800f963-7002-4ded-9f07-fa5980762b2a",
   "metadata": {},
   "outputs": [
    {
     "name": "stdout",
     "output_type": "stream",
     "text": [
      "La letra 'a' aparece 152 veces.\n",
      "La letra 'l' aparece 70 veces.\n",
      "La letra 'e' aparece 78 veces.\n",
      "La letra 'j' aparece 11 veces.\n",
      "La letra 'n' aparece 62 veces.\n",
      "La letra 'd' aparece 28 veces.\n",
      "La letra 'r' aparece 79 veces.\n",
      "La letra 'o' aparece 65 veces.\n",
      "La letra 'm' aparece 32 veces.\n",
      "La letra 'í' aparece 10 veces.\n",
      "La letra 'v' aparece 12 veces.\n",
      "La letra 'i' aparece 75 veces.\n",
      "La letra 'u' aparece 29 veces.\n",
      "La letra 'c' aparece 34 veces.\n",
      "La letra 's' aparece 41 veces.\n",
      "La letra 'f' aparece 11 veces.\n",
      "La letra 'g' aparece 20 veces.\n",
      "La letra 'b' aparece 17 veces.\n",
      "La letra 'p' aparece 7 veces.\n",
      "La letra 't' aparece 27 veces.\n",
      "La letra 'q' aparece 4 veces.\n",
      "La letra 'é' aparece 7 veces.\n",
      "La letra 'ó' aparece 4 veces.\n",
      "La letra 'á' aparece 12 veces.\n",
      "La letra 'h' aparece 5 veces.\n",
      "La letra 'ú' aparece 2 veces.\n",
      "La letra 'z' aparece 3 veces.\n",
      "La letra 'x' aparece 2 veces.\n"
     ]
    }
   ],
   "source": [
    "nombres = [\"Alejandro\", \"María\", \"Javier\", \"Lucía\", \"Carlos\", \"Sofía\", \"Miguel\", \"Ana\", \"Manuel\", \"Isabel\", \"Pedro\", \"Carmen\", \"Jorge\", \"Elena\", \"Juan\", \"Laura\", \"Antonio\", \"Patricia\", \"David\", \"Claudia\", \"Francisco\", \"Marta\", \"Sergio\", \"Teresa\", \"Luis\", \"Raquel\", \"Andrés\", \"Paula\", \"Daniel\", \"Verónica\", \"Fernando\", \"Sara\", \"Pablo\", \"Irene\", \"Álvaro\", \"Natalia\", \"Hugo\", \"Eva\", \"Diego\", \"Cristina\", \"Jesús\", \"Rosa\", \"Roberto\", \"Alicia\", \"Ángel\", \"Beatriz\", \"Ricardo\", \"Julia\", \"Adrián\", \"Silvia\", \"Alberto\", \"Victoria\", \"Raúl\", \"Pilar\", \"Ramón\", \"Lidia\", \"Óscar\", \"Ariadna\", \"Gonzalo\", \"Mónica\", \"Rubén\", \"Esther\", \"Santiago\", \"Nuria\", \"Iván\", \"Ainhoa\", \"Eduardo\", \"Berta\", \"Marcos\", \"Noelia\", \"Enrique\", \"Elisa\", \"Emilio\", \"Fátima\", \"Vicente\", \"Gabriela\", \"Mario\", \"Olga\", \"Rafael\", \"Lorena\", \"Mariano\", \"Cristina\", \"Eugenio\", \"Mercedes\", \"Félix\", \"Amparo\", \"Sebastián\", \"Rocío\", \"Alfredo\", \"Esperanza\", \"Álex\", \"Celia\", \"Héctor\", \"Andrea\", \"Tomás\", \"Inés\", \"Marcelo\", \"Gloria\", \"Marina\", \"Belén\", \"Valentín\", \"Miriam\", \"Guillermo\", \"Ángela\", \"Joaquín\", \"Gemma\", \"Fabián\", \"Daniela\", \"Víctor\", \"Dolores\", \"Marcos\", \"Tamara\", \"Braulio\", \"Lourdes\", \"Federico\", \"Gema\", \"Julián\", \"Nicolás\", \"Leandro\", \"Manuela\", \"Agustín\", \"Elsa\", \"Julio\", \"Consuelo\", \"Ismael\", \"Alejandra\", \"Joaquín\", \"Milagros\", \"Gregorio\", \"Inmaculada\", \"Salvador\", \"Carla\", \"Esteban\", \"Carolina\", \"Fausto\", \"Emilia\", \"Alfonso\", \"Amalia\", \"Baltasar\", \"Adela\", \"Humberto\", \"Blanca\", \"Aníbal\", \"Araceli\", \"César\", \"Candela\"]\n",
    "\n",
    "letras = dict()\n",
    "\n",
    "for nombre in nombres:\n",
    "    for letra in nombre.lower():\n",
    "        if letra not in letras: \n",
    "            if letra.isalpha(): letras[letra] = 1\n",
    "        else:\n",
    "            if letra.isalpha(): letras[letra] += 1\n",
    "\n",
    "for letra, cantidad in letras.items():\n",
    "    print(f\"La letra '{letra}' aparece {cantidad} veces.\")"
   ]
  },
  {
   "cell_type": "code",
   "execution_count": null,
   "id": "7c0c12f5-1792-4ee8-8c71-f5998217a45e",
   "metadata": {},
   "outputs": [],
   "source": [
    "# MÁS EJERCICIOS CON LISTAS"
   ]
  },
  {
   "cell_type": "code",
   "execution_count": null,
   "id": "14ec9505-752b-4f83-ac0f-535bcef1ae55",
   "metadata": {},
   "outputs": [],
   "source": [
    "# 1. SUMAR ELEMENTOS DE UNA LISTA"
   ]
  },
  {
   "cell_type": "code",
   "execution_count": 11,
   "id": "41cab03a-d10c-4b37-a310-4a488e1ad26f",
   "metadata": {},
   "outputs": [
    {
     "name": "stdout",
     "output_type": "stream",
     "text": [
      "La suma de todos los elementos de la lista es: 35\n"
     ]
    }
   ],
   "source": [
    "numeros = [3, 5, 7, 10, 2, 8]\n",
    "\n",
    "sumaTotal = sum(numeros)\n",
    "\n",
    "print(f\"La suma de todos los elementos de la lista es: {sumaTotal}\")"
   ]
  },
  {
   "cell_type": "code",
   "execution_count": null,
   "id": "e905e647-26d9-4fc8-baf7-377f75bd48db",
   "metadata": {},
   "outputs": [],
   "source": [
    "# 2. CONTAR ELEMENTOS ESPECÍFICOS"
   ]
  },
  {
   "cell_type": "code",
   "execution_count": 14,
   "id": "7eab02a8-3324-4f9b-9e6d-b7d2c96c30ba",
   "metadata": {},
   "outputs": [
    {
     "name": "stdin",
     "output_type": "stream",
     "text": [
      "Ingrese una palabra para contar cuántas veces aparece en la lista:  manzana\n"
     ]
    },
    {
     "name": "stdout",
     "output_type": "stream",
     "text": [
      "La palabra 'manzana' aparece 3 veces en la lista.\n"
     ]
    }
   ],
   "source": [
    "palabras = [\"manzana\", \"banana\", \"manzana\", \"pera\", \"uva\", \"manzana\", \"naranja\"]\n",
    "\n",
    "palabra_buscar = input(\"Ingrese una palabra para contar cuántas veces aparece en la lista: \")\n",
    "\n",
    "conteo = palabras.count(palabra_buscar)\n",
    "\n",
    "print(f\"La palabra '{palabra_buscar}' aparece {conteo} veces en la lista.\")\n"
   ]
  },
  {
   "cell_type": "code",
   "execution_count": null,
   "id": "69ecffa4-97b5-401b-b7dd-2f2c7399bcba",
   "metadata": {},
   "outputs": [],
   "source": [
    "# 3. ELIMINAR DUPLICADOS"
   ]
  },
  {
   "cell_type": "code",
   "execution_count": 15,
   "id": "d18497d7-3001-4e36-9fc3-92d2b7553d20",
   "metadata": {},
   "outputs": [
    {
     "name": "stdout",
     "output_type": "stream",
     "text": [
      "{'banana', 'pera', 'naranja', 'manzana', 'uva'}\n"
     ]
    }
   ],
   "source": [
    "palabras = [\"manzana\", \"banana\", \"manzana\", \"pera\", \"uva\", \"manzana\", \"naranja\"]\n",
    "\n",
    "setPalabras = set(palabras)\n",
    "\n",
    "print(setPalabras)\n"
   ]
  },
  {
   "cell_type": "code",
   "execution_count": null,
   "id": "3628208c-3ae8-4758-8046-27edd31f61df",
   "metadata": {},
   "outputs": [],
   "source": [
    "# 4. MÁXIMO Y MÍNIMO"
   ]
  },
  {
   "cell_type": "code",
   "execution_count": 17,
   "id": "84eabb08-6765-4bcd-86d2-585175d6edf7",
   "metadata": {},
   "outputs": [
    {
     "name": "stdout",
     "output_type": "stream",
     "text": [
      "El número máximo es 10\n",
      "El número mínimo es 2\n"
     ]
    }
   ],
   "source": [
    "numeros = [3, 5, 7, 10, 2, 8]\n",
    "\n",
    "print(f\"El número máximo es {max(numeros)}\")\n",
    "print(f\"El número mínimo es {min(numeros)}\")"
   ]
  },
  {
   "cell_type": "code",
   "execution_count": null,
   "id": "15031f93-5bd7-401a-bc14-8b46f482eff5",
   "metadata": {},
   "outputs": [],
   "source": [
    "# 5. FILTRAR NÚMEROS PARES"
   ]
  },
  {
   "cell_type": "code",
   "execution_count": 31,
   "id": "703b1491-4af1-4b7a-bfdd-6cb7e8480054",
   "metadata": {},
   "outputs": [
    {
     "name": "stdout",
     "output_type": "stream",
     "text": [
      "Los números pares son {8, 10, 2}\n"
     ]
    }
   ],
   "source": [
    "numeros = [3, 5, 7, 10, 7, 10, 7, 10, 7, 10, 7, 10, 2, 8]\n",
    "\n",
    "print(f\"Los números pares son {set([num for num in numeros if num % 2 == 0])}\")\n"
   ]
  },
  {
   "cell_type": "code",
   "execution_count": null,
   "id": "c42a30fb-3a9c-4da6-90f9-7e0374408fc3",
   "metadata": {},
   "outputs": [],
   "source": [
    "# 6. REVERTIR UNA LISTA"
   ]
  },
  {
   "cell_type": "code",
   "execution_count": 19,
   "id": "e07bb601-3c00-4ed9-bee7-97e24c9a2c3d",
   "metadata": {},
   "outputs": [
    {
     "name": "stdout",
     "output_type": "stream",
     "text": [
      "['naranja', 'manzana', 'uva', 'pera', 'manzana', 'banana', 'manzana']\n"
     ]
    }
   ],
   "source": [
    "palabras = [\"manzana\", \"banana\", \"manzana\", \"pera\", \"uva\", \"manzana\", \"naranja\"]\n",
    "print(palabras[::-1])"
   ]
  },
  {
   "cell_type": "code",
   "execution_count": null,
   "id": "bd178030-f632-4523-8891-77219d297a1a",
   "metadata": {},
   "outputs": [],
   "source": [
    "# 7. CONCATENAR LISTAS"
   ]
  },
  {
   "cell_type": "code",
   "execution_count": 32,
   "id": "c85f8018-f0ec-4290-a18d-8630316e3d5b",
   "metadata": {},
   "outputs": [
    {
     "name": "stdout",
     "output_type": "stream",
     "text": [
      "[3, 5, 7, 10, 2, 8, 88, 5, 7, 10, 2, 8]\n"
     ]
    }
   ],
   "source": [
    "numeros = [3, 5, 7, 10, 2, 8]\n",
    "numeros2 = [88, 5, 7, 10, 2, 8]\n",
    "res = numeros + numeros2\n",
    "print(res)"
   ]
  },
  {
   "cell_type": "code",
   "execution_count": null,
   "id": "880d51c4-be7e-4fef-8d0f-2f0c0422d41b",
   "metadata": {},
   "outputs": [],
   "source": [
    "# 8. ENCUENTRA ELEMENTOS COMUNES"
   ]
  },
  {
   "cell_type": "code",
   "execution_count": 24,
   "id": "0fe733c2-b902-43d2-baf8-e9727daba230",
   "metadata": {},
   "outputs": [
    {
     "name": "stdout",
     "output_type": "stream",
     "text": [
      "[5, 7, 10, 2, 8]\n"
     ]
    }
   ],
   "source": [
    "numeros = [3, 5, 7, 10, 2, 8]\n",
    "numeros2 = [88, 5, 7, 10, 2, 8]\n",
    "res = []\n",
    "for num in numeros:\n",
    "    if num in numeros2:\n",
    "        res.append(num)\n",
    "print(res)"
   ]
  },
  {
   "cell_type": "code",
   "execution_count": null,
   "id": "3fe865e3-4ca8-47e2-ba5c-2d327370f111",
   "metadata": {},
   "outputs": [],
   "source": [
    "# 9. DIVIDIR UNA LISTA"
   ]
  },
  {
   "cell_type": "code",
   "execution_count": 25,
   "id": "828a4852-5f57-4e84-af60-a8b76f9ee412",
   "metadata": {},
   "outputs": [
    {
     "name": "stdout",
     "output_type": "stream",
     "text": [
      "Los mayores a la media(12.916666666666666) son [88] y los menores son [3, 5, 7, 10, 2, 8, 5, 7, 10, 2, 8]\n"
     ]
    }
   ],
   "source": [
    "numeros = [3, 5, 7, 10, 2, 8, 88, 5, 7, 10, 2, 8]\n",
    "mayores = []\n",
    "menores = []\n",
    "media = sum(numeros) / len(numeros)\n",
    "for num in numeros:\n",
    "    if num < media: menores.append(num)\n",
    "    else: mayores.append(num)\n",
    "print(f\"Los mayores a la media({media}) son {mayores} y los menores son {menores}\")"
   ]
  },
  {
   "cell_type": "code",
   "execution_count": null,
   "id": "f9496fe9-4a39-40c4-9202-aadcd55fa841",
   "metadata": {},
   "outputs": [],
   "source": [
    "# 1O. LISTA DE LISTAS"
   ]
  },
  {
   "cell_type": "code",
   "execution_count": null,
   "id": "a018bb3a-9166-4960-bbc9-0bfae7ed95da",
   "metadata": {},
   "outputs": [],
   "source": []
  }
 ],
 "metadata": {
  "kernelspec": {
   "display_name": "Python 3 (ipykernel)",
   "language": "python",
   "name": "python3"
  },
  "language_info": {
   "codemirror_mode": {
    "name": "ipython",
    "version": 3
   },
   "file_extension": ".py",
   "mimetype": "text/x-python",
   "name": "python",
   "nbconvert_exporter": "python",
   "pygments_lexer": "ipython3",
   "version": "3.12.0"
  }
 },
 "nbformat": 4,
 "nbformat_minor": 5
}
