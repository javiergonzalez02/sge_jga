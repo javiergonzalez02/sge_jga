{
 "cells": [
  {
   "cell_type": "code",
   "execution_count": null,
   "id": "initial_id",
   "metadata": {
    "collapsed": true,
    "jupyter": {
     "outputs_hidden": true
    }
   },
   "outputs": [],
   "source": [
    "# PR0403 - EJERCICIOS CON LISTAS"
   ]
  },
  {
   "cell_type": "code",
   "execution_count": null,
   "id": "9a68e044b305343f",
   "metadata": {},
   "outputs": [],
   "source": [
    "# OPERACIONES CON LISTAS"
   ]
  },
  {
   "cell_type": "code",
   "execution_count": null,
   "id": "7c117f811b301c28",
   "metadata": {},
   "outputs": [],
   "source": [
    "# 1. ORDENANDO ELEMENTOS\n",
    "\n",
    "nombres = [\"Alejandro\", \"María\", \"Javier\", \"Lucía\", \"Carlos\", \"Sofía\", \"Miguel\", \"Ana\", \"Manuel\", \"Isabel\", \"Pedro\",\n",
    "           \"Carmen\",\n",
    "           \"Jorge\", \"Elena\", \"Juan\", \"Laura\", \"Antonio\", \"Patricia\", \"David\", \"Claudia\", \"Francisco\", \"Marta\", \"Sergio\",\n",
    "           \"Teresa\", \"Luis\", \"Raquel\", \"Andrés\", \"Paula\", \"Daniel\", \"Verónica\", \"Fernando\", \"Sara\", \"Pablo\", \"Irene\",\n",
    "           \"Álvaro\",\n",
    "           \"Natalia\", \"Hugo\", \"Eva\", \"Diego\", \"Cristina\", \"Jesús\", \"Rosa\", \"Roberto\", \"Alicia\", \"Ángel\", \"Beatriz\",\n",
    "           \"Ricardo\",\n",
    "           \"Julia\", \"Adrián\", \"Silvia\", \"Alberto\", \"Victoria\", \"Raúl\", \"Pilar\", \"Ramón\", \"Lidia\", \"Óscar\", \"Ariadna\",\n",
    "           \"Gonzalo\", \"Mónica\", \"Rubén\", \"Esther\", \"Santiago\", \"Nuria\", \"Iván\", \"Ainhoa\", \"Eduardo\", \"Berta\", \"Marcos\",\n",
    "           \"Noelia\", \"Enrique\", \"Elisa\", \"Emilio\", \"Fátima\", \"Vicente\", \"Gabriela\", \"Mario\", \"Olga\", \"Rafael\", \"Lorena\",\n",
    "           \"Mariano\", \"Cristina\", \"Eugenio\", \"Mercedes\", \"Félix\", \"Amparo\", \"Sebastián\", \"Rocío\", \"Alfredo\",\n",
    "           \"Esperanza\",\n",
    "           \"Álex\", \"Celia\", \"Héctor\", \"Andrea\", \"Tomás\", \"Inés\", \"Marcelo\", \"Gloria\", \"Marina\", \"Belén\", \"Valentín\",\n",
    "           \"Miriam\",\n",
    "           \"Guillermo\", \"Ángela\", \"Joaquín\", \"Gemma\", \"Fabián\", \"Daniela\", \"Víctor\", \"Dolores\", \"Marcos\", \"Tamara\",\n",
    "           \"Braulio\",\n",
    "           \"Lourdes\", \"Federico\", \"Gema\", \"Julián\", \"Nicolás\", \"Leandro\", \"Manuela\", \"Agustín\", \"Elsa\", \"Julio\",\n",
    "           \"Consuelo\",\n",
    "           \"Ismael\", \"Alejandra\", \"Joaquín\", \"Milagros\", \"Gregorio\", \"Inmaculada\", \"Salvador\", \"Carla\", \"Esteban\",\n",
    "           \"Carolina\",\n",
    "           \"Fausto\", \"Emilia\", \"Alfonso\", \"Amalia\", \"Baltasar\", \"Adela\", \"Humberto\", \"Blanca\", \"Aníbal\", \"Araceli\",\n",
    "           \"César\",\n",
    "           \"Candela\"]\n",
    "nombres.sort(reverse=True)\n",
    "\n",
    "print(nombres)"
   ]
  },
  {
   "cell_type": "code",
   "execution_count": 4,
   "id": "e080196fbb3ed3d7",
   "metadata": {},
   "outputs": [
    {
     "ename": "SyntaxError",
     "evalue": "incomplete input (3895255617.py, line 27)",
     "output_type": "error",
     "traceback": [
      "\u001b[0;36m  Cell \u001b[0;32mIn[4], line 27\u001b[0;36m\u001b[0m\n\u001b[0;31m    print(nombres.count(nombres.startswith(\"a\"))\u001b[0m\n\u001b[0m                                                ^\u001b[0m\n\u001b[0;31mSyntaxError\u001b[0m\u001b[0;31m:\u001b[0m incomplete input\n"
     ]
    }
   ],
   "source": [
    "# 2. CONTANDO ELEMENTOS\n",
    "\n",
    "nombres = [\"Alejandro\", \"María\", \"Javier\", \"Lucía\", \"Carlos\", \"Sofía\", \"Miguel\", \"Ana\", \"Manuel\", \"Isabel\", \"Pedro\",\n",
    "           \"Carmen\",\n",
    "           \"Jorge\", \"Elena\", \"Juan\", \"Laura\", \"Antonio\", \"Patricia\", \"David\", \"Claudia\", \"Francisco\", \"Marta\", \"Sergio\",\n",
    "           \"Teresa\", \"Luis\", \"Raquel\", \"Andrés\", \"Paula\", \"Daniel\", \"Verónica\", \"Fernando\", \"Sara\", \"Pablo\", \"Irene\",\n",
    "           \"Álvaro\",\n",
    "           \"Natalia\", \"Hugo\", \"Eva\", \"Diego\", \"Cristina\", \"Jesús\", \"Rosa\", \"Roberto\", \"Alicia\", \"Ángel\", \"Beatriz\",\n",
    "           \"Ricardo\",\n",
    "           \"Julia\", \"Adrián\", \"Silvia\", \"Alberto\", \"Victoria\", \"Raúl\", \"Pilar\", \"Ramón\", \"Lidia\", \"Óscar\", \"Ariadna\",\n",
    "           \"Gonzalo\", \"Mónica\", \"Rubén\", \"Esther\", \"Santiago\", \"Nuria\", \"Iván\", \"Ainhoa\", \"Eduardo\", \"Berta\", \"Marcos\",\n",
    "           \"Noelia\", \"Enrique\", \"Elisa\", \"Emilio\", \"Fátima\", \"Vicente\", \"Gabriela\", \"Mario\", \"Olga\", \"Rafael\", \"Lorena\",\n",
    "           \"Mariano\", \"Cristina\", \"Eugenio\", \"Mercedes\", \"Félix\", \"Amparo\", \"Sebastián\", \"Rocío\", \"Alfredo\",\n",
    "           \"Esperanza\",\n",
    "           \"Álex\", \"Celia\", \"Héctor\", \"Andrea\", \"Tomás\", \"Inés\", \"Marcelo\", \"Gloria\", \"Marina\", \"Belén\", \"Valentín\",\n",
    "           \"Miriam\",\n",
    "           \"Guillermo\", \"Ángela\", \"Joaquín\", \"Gemma\", \"Fabián\", \"Daniela\", \"Víctor\", \"Dolores\", \"Marcos\", \"Tamara\",\n",
    "           \"Braulio\",\n",
    "           \"Lourdes\", \"Federico\", \"Gema\", \"Julián\", \"Nicolás\", \"Leandro\", \"Manuela\", \"Agustín\", \"Elsa\", \"Julio\",\n",
    "           \"Consuelo\",\n",
    "           \"Ismael\", \"Alejandra\", \"Joaquín\", \"Milagros\", \"Gregorio\", \"Inmaculada\", \"Salvador\", \"Carla\", \"Esteban\",\n",
    "           \"Carolina\",\n",
    "           \"Fausto\", \"Emilia\", \"Alfonso\", \"Amalia\", \"Baltasar\", \"Adela\", \"Humberto\", \"Blanca\", \"Aníbal\", \"Araceli\",\n",
    "           \"César\",\n",
    "           \"Candela\"]\n",
    "\n",
    "count = 0\n",
    "\n",
    "for nombre in nombres:\n",
    "    \n"
   ]
  },
  {
   "cell_type": "code",
   "execution_count": null,
   "id": "cd7e3aeb-1324-490f-a883-192fb0a25000",
   "metadata": {},
   "outputs": [],
   "source": []
  }
 ],
 "metadata": {
  "kernelspec": {
   "display_name": "Python 3 (ipykernel)",
   "language": "python",
   "name": "python3"
  },
  "language_info": {
   "codemirror_mode": {
    "name": "ipython",
    "version": 3
   },
   "file_extension": ".py",
   "mimetype": "text/x-python",
   "name": "python",
   "nbconvert_exporter": "python",
   "pygments_lexer": "ipython3",
   "version": "3.12.0"
  }
 },
 "nbformat": 4,
 "nbformat_minor": 5
}
