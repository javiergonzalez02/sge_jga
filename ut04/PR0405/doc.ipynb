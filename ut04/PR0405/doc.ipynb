{
 "cells": [
  {
   "cell_type": "code",
   "execution_count": null,
   "id": "05009958-5ad9-45d3-817d-8283aaae0234",
   "metadata": {},
   "outputs": [],
   "source": [
    "# PRO405: EJERCICIOS DE PROGRAMACIÓN FUNCIONAL"
   ]
  },
  {
   "cell_type": "code",
   "execution_count": null,
   "id": "9f74d5a0-fe8f-4c7b-931e-7d7b0f5eac1f",
   "metadata": {},
   "outputs": [],
   "source": [
    "# 1. FILTRADO DE UNA LISTA DE NÚMEROS\n",
    "\n",
    "numeros = [1, 2, 3, 4, 5, 6, 7, 8, 9, 10]\n",
    "\n",
    "def esPar(x):\n",
    "    if (x % 2) == 0: return True\n",
    "    else: return False\n",
    "\n",
    "pares = filter(esPar, numeros)\n",
    "\n",
    "for x in pares:\n",
    "    print(x)"
   ]
  },
  {
   "cell_type": "code",
   "execution_count": null,
   "id": "6224c36d-2870-486e-afbd-a48f0a62dcd5",
   "metadata": {},
   "outputs": [],
   "source": [
    "# 2. MAPEO DE TEMPERATURAS\n",
    "\n",
    "celsius = [0, 20, 37, 100]\n",
    "\n",
    "def celsiusAFahrenheit(x):\n",
    "   return x*9/5+32\n",
    "\n",
    "print(list(map(celsiusAFahrenheit, celsius)))"
   ]
  },
  {
   "cell_type": "code",
   "execution_count": null,
   "id": "84fbcb2e-7827-4b58-b33c-8a6a85bdb491",
   "metadata": {},
   "outputs": [],
   "source": [
    "# 3. SUMA ACUMULATIVA\n",
    "\n",
    "import functools\n",
    "\n",
    "numeros = [1, 2, 3, 4, 5]\n",
    "\n",
    "print(functools.reduce(lambda a, b: a+b, numeros))"
   ]
  },
  {
   "cell_type": "code",
   "execution_count": null,
   "id": "a0b95420-86b5-4b54-8bb2-df7455daad4e",
   "metadata": {},
   "outputs": [],
   "source": [
    "# 4. PALABRAS CON CIERTA LONGITUD\n",
    "\n",
    "palabras = [\"perro\", \"gato\", \"elefante\", \"oso\", \"jirafa\"]\n",
    "\n",
    "def esMayorCinco(x):\n",
    "    if len(x) > 5: return True\n",
    "    else: return False\n",
    "\n",
    "mayorCinco = filter(esMayorCinco, palabras)\n",
    "\n",
    "def mayusculas(x):\n",
    "   return x.upper()\n",
    "\n",
    "print(list(map(mayusculas, mayorCinco)))"
   ]
  },
  {
   "cell_type": "code",
   "execution_count": null,
   "id": "7ff43e89-79e8-4761-a612-5b4d21242b53",
   "metadata": {},
   "outputs": [],
   "source": [
    "# 5. MULTIPLICACIÓN DE PARES\n",
    "\n",
    "from functools import reduce\n",
    "\n",
    "numeros = [1, 2, 3, 4, 5, 6]\n",
    "\n",
    "pares = list(filter(lambda x: x % 2 == 0, numeros))\n",
    "\n",
    "mapeados = map(lambda x: x, pares) \n",
    "\n",
    "suma = reduce(lambda x, y: x * y, mapeados, 1)\n",
    "\n",
    "print(suma)"
   ]
  },
  {
   "cell_type": "code",
   "execution_count": null,
   "id": "2a37fa82-4f92-4ff0-adcc-d9579291e0b2",
   "metadata": {},
   "outputs": [],
   "source": [
    "# 6. COMBINAR OPERACIONES EN LISTAS ANIDADAS\n",
    "\n",
    "from functools import reduce\n",
    "\n",
    "numeros = [[-3, 2, 7], [10, -5, 3], [0, 8, -2]]\n",
    "\n",
    "listaReducida = reduce(lambda acc, sublista: acc + sublista, numeros, [])\n",
    "\n",
    "positivos = filter(lambda x: x > 0, listaReducida)\n",
    "\n",
    "sumaPositivos = reduce(lambda a, b: a + b, positivos, 0)\n",
    "\n",
    "print(sumaPositivos) "
   ]
  }
 ],
 "metadata": {
  "kernelspec": {
   "display_name": "Python 3 (ipykernel)",
   "language": "python",
   "name": "python3"
  },
  "language_info": {
   "codemirror_mode": {
    "name": "ipython",
    "version": 3
   },
   "file_extension": ".py",
   "mimetype": "text/x-python",
   "name": "python",
   "nbconvert_exporter": "python",
   "pygments_lexer": "ipython3",
   "version": "3.12.0"
  }
 },
 "nbformat": 4,
 "nbformat_minor": 5
}
